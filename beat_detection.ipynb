{
  "cells": [
    {
      "cell_type": "markdown",
      "metadata": {
        "id": "view-in-github",
        "colab_type": "text"
      },
      "source": [
        "<a href=\"https://colab.research.google.com/github/Ahmed-Hossam-Aldeen/Beat-detector-using-fourier-analysis/blob/main/beat_detection.ipynb\" target=\"_parent\"><img src=\"https://colab.research.google.com/assets/colab-badge.svg\" alt=\"Open In Colab\"/></a>"
      ]
    },
    {
      "cell_type": "code",
      "execution_count": null,
      "metadata": {
        "id": "sU1pOf8BuV5Y"
      },
      "outputs": [],
      "source": [
        "!pip install pydub"
      ],
      "id": "sU1pOf8BuV5Y"
    },
    {
      "cell_type": "code",
      "execution_count": 55,
      "metadata": {
        "id": "YDd-yVA4dO96",
        "colab": {
          "base_uri": "https://localhost:8080/"
        },
        "outputId": "5b1c4c28-c96c-44c6-b78f-426f85915837"
      },
      "outputs": [
        {
          "output_type": "execute_result",
          "data": {
            "text/plain": [
              "<_io.BufferedRandom name='output.wav'>"
            ]
          },
          "metadata": {},
          "execution_count": 55
        }
      ],
      "source": [
        "import pydub\n",
        "from pydub import AudioSegment\n",
        "sound = AudioSegment.from_mp3(\"output.mp3\")\n",
        "sound.export(\"output.wav\", format=\"wav\")"
      ],
      "id": "YDd-yVA4dO96"
    },
    {
      "cell_type": "markdown",
      "metadata": {
        "id": "bC79EGSA-HKG"
      },
      "source": [
        "## Full code"
      ],
      "id": "bC79EGSA-HKG"
    },
    {
      "cell_type": "code",
      "execution_count": 56,
      "metadata": {
        "colab": {
          "base_uri": "https://localhost:8080/"
        },
        "id": "-OVuTjtb-Nm2",
        "outputId": "b0be5da4-d903-4b78-e96f-2871a0b5b63b"
      },
      "outputs": [
        {
          "output_type": "stream",
          "name": "stdout",
          "text": [
            "mkdir: cannot create directory ‘chunks’: File exists\n"
          ]
        },
        {
          "output_type": "stream",
          "name": "stderr",
          "text": [
            "/usr/local/lib/python3.7/dist-packages/ipykernel_launcher.py:23: DeprecationWarning: scipy.arange is deprecated and will be removed in SciPy 2.0.0, use numpy.arange instead\n",
            "/usr/local/lib/python3.7/dist-packages/ipykernel_launcher.py:27: DeprecationWarning: Using scipy.fft as a function is deprecated and will be removed in SciPy 1.5.0, use scipy.fft.fft instead.\n"
          ]
        },
        {
          "output_type": "stream",
          "name": "stdout",
          "text": [
            "[18.4, 20.6, 21.9, 22.0, 24.2, 24.9, 25.5, 25.6, 27.5, 27.6, 27.8, 29.1, 29.2, 31.3, 31.4, 32.0, 32.1, 32.7, 34.7, 34.9, 35.0, 36.3, 38.5, 39.2, 39.8, 39.9, 41.9, 42.1, 43.4, 43.5, 45.7, 46.3, 46.4, 47.0, 47.6, 47.7, 48.3, 49.0, 49.2, 50.1, 50.5, 50.6, 51.2, 51.6, 51.7, 51.9, 52.8, 53.4, 53.5, 53.9, 54.1, 55.2, 55.3, 55.5, 56.1, 57.0, 57.7, 59.3, 61.9, 62.6, 63.3, 63.5, 64.4, 64.8, 65.5, 66.0, 66.2, 67.1, 68.4, 69.5, 69.8, 73.6, 74.9, 75.1, 89.9, 90.6, 91.3, 91.9, 92.0, 92.1, 92.2, 93.0, 93.1, 93.5, 94.2, 94.6, 94.8, 94.9, 95.7, 95.8, 96.4, 96.8, 96.9, 97.1, 98.2, 98.4, 98.5, 99.1, 100.0, 100.6, 100.7, 101.3, 102.2, 102.3, 107.8, 107.9, 110.1, 110.8, 111.4, 111.5, 113.4, 113.5, 113.7, 115.0, 115.1, 117.3, 117.9, 118.0, 118.6, 120.8, 120.9, 122.2, 124.4, 125.1, 125.7, 125.8, 127.8, 128.0, 129.3, 129.4, 131.6, 132.2, 132.3, 132.9, 133.5, 133.6, 134.2, 134.9, 135.1, 136.0, 136.4, 136.5, 137.1, 137.6, 137.8, 138.7, 139.4, 139.8, 140.0, 141.1, 141.2, 141.4, 142.0, 142.1, 142.9, 143.0, 143.6, 145.2, 147.2, 147.8, 148.5, 149.2, 149.4, 150.3, 151.4, 151.9, 152.1, 153.0, 153.7, 154.1, 155.5, 155.7, 156.3, 156.4, 157.2, 158.6, 159.5, 160.2, 175.8, 176.5, 177.2, 179.4, 180.1, 180.5, 180.7, 180.8, 181.6, 181.7, 182.3, 182.7, 182.8, 183.0, 185.0, 186.6, 187.2, 187.3, 188.1, 188.2, 188.8, 189.5, 189.7, 193.8, 196.0, 196.7, 197.3, 197.4, 199.4, 199.6, 200.9, 201.0, 203.2, 203.6, 204.0, 204.1, 204.5, 204.6, 204.7, 204.8, 204.9, 205.0, 206.7, 206.8, 208.1, 210.3, 210.4, 211.0, 211.7, 213.7, 213.9, 215.2, 215.3, 217.5, 218.2, 218.8, 218.9, 221.1, 222.4, 222.5, 224.6, 224.7, 225.3, 226.0, 228.0, 228.2, 228.3, 229.6, 233.1, 233.2, 235.4]\n"
          ]
        },
        {
          "output_type": "stream",
          "name": "stderr",
          "text": [
            "/usr/local/lib/python3.7/dist-packages/ipykernel_launcher.py:66: DeprecationWarning: `np.int` is a deprecated alias for the builtin `int`. To silence this warning, use `int` by itself. Doing this will not modify any behavior and is safe. When replacing `np.int`, you may wish to use e.g. `np.int64` or `np.int32` to specify the precision. If you wish to review your current use, check the release note link for additional information.\n",
            "Deprecated in NumPy 1.20; for more details and guidance: https://numpy.org/devdocs/release/1.20.0-notes.html#deprecations\n"
          ]
        },
        {
          "output_type": "stream",
          "name": "stdout",
          "text": [
            "ffmpeg version 3.4.8-0ubuntu0.2 Copyright (c) 2000-2020 the FFmpeg developers\n",
            "  built with gcc 7 (Ubuntu 7.5.0-3ubuntu1~18.04)\n",
            "  configuration: --prefix=/usr --extra-version=0ubuntu0.2 --toolchain=hardened --libdir=/usr/lib/x86_64-linux-gnu --incdir=/usr/include/x86_64-linux-gnu --enable-gpl --disable-stripping --enable-avresample --enable-avisynth --enable-gnutls --enable-ladspa --enable-libass --enable-libbluray --enable-libbs2b --enable-libcaca --enable-libcdio --enable-libflite --enable-libfontconfig --enable-libfreetype --enable-libfribidi --enable-libgme --enable-libgsm --enable-libmp3lame --enable-libmysofa --enable-libopenjpeg --enable-libopenmpt --enable-libopus --enable-libpulse --enable-librubberband --enable-librsvg --enable-libshine --enable-libsnappy --enable-libsoxr --enable-libspeex --enable-libssh --enable-libtheora --enable-libtwolame --enable-libvorbis --enable-libvpx --enable-libwavpack --enable-libwebp --enable-libx265 --enable-libxml2 --enable-libxvid --enable-libzmq --enable-libzvbi --enable-omx --enable-openal --enable-opengl --enable-sdl2 --enable-libdc1394 --enable-libdrm --enable-libiec61883 --enable-chromaprint --enable-frei0r --enable-libopencv --enable-libx264 --enable-shared\n",
            "  libavutil      55. 78.100 / 55. 78.100\n",
            "  libavcodec     57.107.100 / 57.107.100\n",
            "  libavformat    57. 83.100 / 57. 83.100\n",
            "  libavdevice    57. 10.100 / 57. 10.100\n",
            "  libavfilter     6.107.100 /  6.107.100\n",
            "  libavresample   3.  7.  0 /  3.  7.  0\n",
            "  libswscale      4.  8.100 /  4.  8.100\n",
            "  libswresample   2.  9.100 /  2.  9.100\n",
            "  libpostproc    54.  7.100 / 54.  7.100\n",
            "Input #0, mp3, from 'output.mp3':\n",
            "  Metadata:\n",
            "    encoder         : Lavf58.29.100\n",
            "  Duration: 00:04:00.58, start: 0.023021, bitrate: 128 kb/s\n",
            "    Stream #0:0: Audio: mp3, 48000 Hz, stereo, s16p, 128 kb/s\n",
            "    Metadata:\n",
            "      encoder         : Lavc58.54\n",
            "Input #1, mov,mp4,m4a,3gp,3g2,mj2, from 'video.mp4':\n",
            "  Metadata:\n",
            "    major_brand     : isom\n",
            "    minor_version   : 512\n",
            "    compatible_brands: isomiso2mp41\n",
            "    encoder         : Lavf58.35.100\n",
            "  Duration: 00:04:00.60, start: 0.000000, bitrate: 714 kb/s\n",
            "    Stream #1:0(und): Video: mpeg4 (Simple Profile) (mp4v / 0x7634706D), yuv420p, 416x416 [SAR 1:1 DAR 1:1], 714 kb/s, 10 fps, 10 tbr, 10240 tbn, 10 tbc (default)\n",
            "    Metadata:\n",
            "      handler_name    : VideoHandler\n",
            "Stream mapping:\n",
            "  Stream #0:0 (mp3) -> aformat (graph 0)\n",
            "  Stream #1:0 (mpeg4) -> overlay:main (graph 0)\n",
            "  format (graph 0) -> Stream #0:0 (libx264)\n",
            "  Stream #0:0 -> #0:1 (mp3 (native) -> aac (native))\n",
            "Press [q] to stop, [?] for help\n",
            "\u001b[1;36m[libx264 @ 0x564c30734800] \u001b[0musing SAR=1/1\n",
            "\u001b[1;36m[libx264 @ 0x564c30734800] \u001b[0musing cpu capabilities: MMX2 SSE2Fast SSSE3 SSE4.2 AVX FMA3 BMI2 AVX2\n",
            "\u001b[1;36m[libx264 @ 0x564c30734800] \u001b[0mprofile Constrained Baseline, level 2.1\n",
            "\u001b[1;36m[libx264 @ 0x564c30734800] \u001b[0m264 - core 152 r2854 e9a5903 - H.264/MPEG-4 AVC codec - Copyleft 2003-2017 - http://www.videolan.org/x264.html - options: cabac=0 ref=1 deblock=0:0:0 analyse=0:0 me=dia subme=0 psy=1 psy_rd=1.00:0.00 mixed_ref=0 me_range=16 chroma_me=1 trellis=0 8x8dct=0 cqm=0 deadzone=21,11 fast_pskip=1 chroma_qp_offset=0 threads=3 lookahead_threads=1 sliced_threads=0 nr=0 decimate=1 interlaced=0 bluray_compat=0 constrained_intra=0 bframes=0 weightp=0 keyint=250 keyint_min=10 scenecut=0 intra_refresh=0 rc=crf mbtree=0 crf=23.0 qcomp=0.60 qpmin=0 qpmax=69 qpstep=4 ip_ratio=1.40 aq=0\n",
            "Output #0, mp4, to 'videoMono.mp4':\n",
            "  Metadata:\n",
            "    encoder         : Lavf57.83.100\n",
            "    Stream #0:0: Video: h264 (libx264) (avc1 / 0x31637661), yuv420p, 416x416 [SAR 1:1 DAR 1:1], q=-1--1, 10 fps, 10240 tbn, 10 tbc (default)\n",
            "    Metadata:\n",
            "      encoder         : Lavc57.107.100 libx264\n",
            "    Side data:\n",
            "      cpb: bitrate max/min/avg: 0/0/0 buffer size: 0 vbv_delay: -1\n",
            "    Stream #0:1: Audio: aac (LC) (mp4a / 0x6134706D), 48000 Hz, stereo, fltp, 128 kb/s\n",
            "    Metadata:\n",
            "      encoder         : Lavc57.107.100 aac\n",
            "\u001b[0;33mPast duration 0.666985 too large\n",
            "\u001b[0m\u001b[1;35m[mp4 @ 0x564c30711200] \u001b[0mStarting second pass: moving the moov atom to the beginning of the file\n",
            "frame= 2407 fps=127 q=-1.0 Lsize=   30999kB time=00:04:00.60 bitrate=1055.4kbits/s speed=12.7x    \n",
            "video:27046kB audio:3861kB subtitle:0kB other streams:0kB global headers:0kB muxing overhead: 0.295266%\n",
            "\u001b[1;36m[libx264 @ 0x564c30734800] \u001b[0mframe I:10    Avg QP:20.00  size: 59040\n",
            "\u001b[1;36m[libx264 @ 0x564c30734800] \u001b[0mframe P:2397  Avg QP:22.60  size: 11308\n",
            "\u001b[1;36m[libx264 @ 0x564c30734800] \u001b[0mmb I  I16..4: 100.0%  0.0%  0.0%\n",
            "\u001b[1;36m[libx264 @ 0x564c30734800] \u001b[0mmb P  I16..4:  5.5%  0.0%  0.0%  P16..4: 40.6%  0.0%  0.0%  0.0%  0.0%    skip:53.9%\n",
            "\u001b[1;36m[libx264 @ 0x564c30734800] \u001b[0mcoded y,uvDC,uvAC intra: 83.8% 79.0% 64.9% inter: 28.5% 18.9% 8.7%\n",
            "\u001b[1;36m[libx264 @ 0x564c30734800] \u001b[0mi16 v,h,dc,p: 27% 41% 20% 12%\n",
            "\u001b[1;36m[libx264 @ 0x564c30734800] \u001b[0mi8c dc,h,v,p: 41% 33% 19%  8%\n",
            "\u001b[1;36m[libx264 @ 0x564c30734800] \u001b[0mkb/s:920.47\n",
            "\u001b[1;36m[aac @ 0x564c30735700] \u001b[0mQavg: 535.877\n"
          ]
        }
      ],
      "source": [
        "import shutil\n",
        "!mkdir chunks\n",
        "\n",
        "from pydub import AudioSegment\n",
        "from pydub.utils import make_chunks\n",
        "import numpy  as np\n",
        "from scipy import fft, arange\n",
        "import librosa\n",
        "import time\n",
        "\n",
        "kicks = []\n",
        "seconds = []\n",
        "slices = 10\n",
        "\n",
        "myaudio = AudioSegment.from_file(\"output.wav\" , \"wav\") \n",
        "chunk_length_ms = 1000/slices # pydub calculates in millisec\n",
        "chunks = make_chunks(myaudio, chunk_length_ms) #Make chunks of one sec\n",
        "\n",
        "#Export all of the individual chunks as wav files\n",
        "def frequency_spectrum(x, sf):\n",
        "    x = x - np.average(x)  # zero-centering\n",
        "    n = len(x)\n",
        "    k = arange(n)\n",
        "    tarr = n / float(sf)\n",
        "    frqarr = k / float(tarr)  # two sides frequency range\n",
        "    frqarr = frqarr[range(n // 2)]  # one side frequency range\n",
        "    x = fft(x) / n  # fft computing and normalization\n",
        "    x = x[range(n // 2)]\n",
        "    return frqarr, abs(x)\n",
        "\n",
        "for i, chunk in enumerate(chunks):\n",
        "    chunk_name = \"chunk{0}.wav\".format(i)\n",
        "    #print (\"exporting\", chunk_name)\n",
        "    chunk.export(f'./chunks/{chunk_name}', format=\"wav\")\n",
        "\n",
        "    audio = f'./chunks/chunk{i}.wav'\n",
        "    x, sr = librosa.load(audio)\n",
        "    frq, X = frequency_spectrum(x, sr)\n",
        "    \n",
        "    X = X*10000\n",
        "    seconds.append(i/slices)\n",
        "    if X[5]>1000 or x[17]>1000:\n",
        "        #print(\"kick detected\")\n",
        "        kicks.append(i/slices)\n",
        "        \n",
        "shutil.rmtree(\"chunks\")\n",
        "print(kicks)\n",
        "#################################################################################\n",
        "import cv2\n",
        "import numpy as np\n",
        "import matplotlib.pyplot as plt\n",
        "def cv2_clipped_zoom(img, zoom_factor=0):\n",
        "\n",
        "    if zoom_factor == 0:\n",
        "        return img\n",
        "\n",
        "    height, width = img.shape[:2] # It's also the final desired shape\n",
        "    new_height, new_width = int(height * zoom_factor), int(width * zoom_factor)\n",
        "    \n",
        "    ### Crop only the part that will remain in the result (more efficient)\n",
        "    # Centered bbox of the final desired size in resized (larger/smaller) image coordinates\n",
        "    y1, x1 = max(0, new_height - height) // 2, max(0, new_width - width) // 2\n",
        "    y2, x2 = y1 + height, x1 + width\n",
        "    bbox = np.array([y1,x1,y2,x2])\n",
        "    # Map back to original image coordinates\n",
        "    bbox = (bbox / zoom_factor).astype(np.int)\n",
        "    y1, x1, y2, x2 = bbox\n",
        "    cropped_img = img[y1:y2, x1:x2]\n",
        "    \n",
        "    # Handle padding when downscaling\n",
        "    resize_height, resize_width = min(new_height, height), min(new_width, width)\n",
        "    pad_height1, pad_width1 = (height - resize_height) // 2, (width - resize_width) //2\n",
        "    pad_height2, pad_width2 = (height - resize_height) - pad_height1, (width - resize_width) - pad_width1\n",
        "    pad_spec = [(pad_height1, pad_height2), (pad_width1, pad_width2)] + [(0,0)] * (img.ndim - 2)\n",
        "    \n",
        "    result = cv2.resize(cropped_img, (resize_width, resize_height))\n",
        "    result = np.pad(result, pad_spec, mode='constant')\n",
        "    assert result.shape[0] == height and result.shape[1] == width\n",
        "    return result\n",
        "\n",
        "img = cv2.imread(\"test.jpg\")\n",
        "ksize = (5, 5)\n",
        "scale = 1.04\n",
        "zoomed = cv2_clipped_zoom(img, scale)\n",
        "# Using cv2.blur() method \n",
        "image = cv2.blur(zoomed, ksize) \n",
        "cv2.imwrite(\"testzoom.jpg\",image)\n",
        "################################################################################\n",
        "import cv2\n",
        "frames = []\n",
        "i = 0\n",
        "\n",
        "for i in seconds:\n",
        "  if i in kicks:\n",
        "    frames.append(cv2.imread('testzoom.jpg'))\n",
        "    #print(i)\n",
        "  else:  \n",
        "    frames.append(cv2.imread('test.jpg'))\n",
        "\n",
        "height, width, _ = frames[0].shape\n",
        "out = cv2.VideoWriter('video.mp4', cv2.VideoWriter_fourcc(*'DIVX'), slices, (width, height))\n",
        "[out.write(f) for f in frames]\n",
        "out.release()\n",
        "################################################################################\n",
        "!ffmpeg -i output.mp3 -i video.mp4 -filter_complex \"[0:a]aformat=channel_layouts=mono,showwaves=s=1280x202:mode=line:colors=white|black[sw];[1][sw]overlay=(W-w)/2:(H-h)/2:format=auto,format=yuv420p[v]\" -map \"[v]\" -map 0:a -movflags  +faststart -preset ultrafast videoMono.mp4"
      ],
      "id": "-OVuTjtb-Nm2"
    },
    {
      "cell_type": "markdown",
      "source": [
        "## Functions"
      ],
      "metadata": {
        "id": "18bXbEPw9crH"
      },
      "id": "18bXbEPw9crH"
    },
    {
      "cell_type": "code",
      "execution_count": 47,
      "metadata": {
        "colab": {
          "base_uri": "https://localhost:8080/"
        },
        "id": "uEeYCmo0HoiA",
        "outputId": "1ce9ea55-5f9e-44bf-9da5-1b4f6bfcb5fc"
      },
      "outputs": [
        {
          "output_type": "stream",
          "name": "stderr",
          "text": [
            "/usr/local/lib/python3.7/dist-packages/ipykernel_launcher.py:23: DeprecationWarning: scipy.arange is deprecated and will be removed in SciPy 2.0.0, use numpy.arange instead\n",
            "/usr/local/lib/python3.7/dist-packages/ipykernel_launcher.py:27: DeprecationWarning: Using scipy.fft as a function is deprecated and will be removed in SciPy 1.5.0, use scipy.fft.fft instead.\n"
          ]
        }
      ],
      "source": [
        "import shutil\n",
        "!mkdir chunks\n",
        "\n",
        "from pydub import AudioSegment\n",
        "from pydub.utils import make_chunks\n",
        "import numpy  as np\n",
        "from scipy import fft, arange\n",
        "import librosa\n",
        "import time\n",
        "\n",
        "kicks = []\n",
        "seconds = []\n",
        "slices = 10\n",
        "\n",
        "myaudio = AudioSegment.from_file(\"output.wav\" , \"wav\") \n",
        "chunk_length_ms = 1000/slices # pydub calculates in millisec\n",
        "chunks = make_chunks(myaudio, chunk_length_ms) #Make chunks of one sec\n",
        "\n",
        "#Export all of the individual chunks as wav files\n",
        "def frequency_spectrum(x, sf):\n",
        "    x = x - np.average(x)  # zero-centering\n",
        "    n = len(x)\n",
        "    k = arange(n)\n",
        "    tarr = n / float(sf)\n",
        "    frqarr = k / float(tarr)  # two sides frequency range\n",
        "    frqarr = frqarr[range(n // 2)]  # one side frequency range\n",
        "    x = fft(x) / n  # fft computing and normalization\n",
        "    x = x[range(n // 2)]\n",
        "    return frqarr, abs(x)\n",
        "\n",
        "for i, chunk in enumerate(chunks):\n",
        "    chunk_name = \"chunk{0}.wav\".format(i)\n",
        "    #print (\"exporting\", chunk_name)\n",
        "    chunk.export(f'./chunks/{chunk_name}', format=\"wav\")\n",
        "\n",
        "    audio = f'./chunks/chunk{i}.wav'\n",
        "    x, sr = librosa.load(audio)\n",
        "    frq, X = frequency_spectrum(x, sr)\n",
        "    \n",
        "    X = X*10000\n",
        "    seconds.append(i/slices)\n",
        "    if X[10]>1000:\n",
        "        #print(\"kick detected\")\n",
        "        kicks.append(i/slices)\n",
        "    #time.sleep(0.1835)    \n",
        "        \n",
        "#shutil.rmtree(\"chunks\")"
      ],
      "id": "uEeYCmo0HoiA"
    },
    {
      "cell_type": "code",
      "execution_count": 43,
      "metadata": {
        "id": "u45ZbafmDm0f"
      },
      "outputs": [],
      "source": [
        "shutil.rmtree(\"chunks\")"
      ],
      "id": "u45ZbafmDm0f"
    },
    {
      "cell_type": "code",
      "execution_count": null,
      "metadata": {
        "id": "aw1SCepwONvT"
      },
      "outputs": [],
      "source": [
        "print(kicks)\n",
        "print(seconds)"
      ],
      "id": "aw1SCepwONvT"
    },
    {
      "cell_type": "code",
      "execution_count": null,
      "metadata": {
        "colab": {
          "background_save": true
        },
        "id": "Au9a4_WDz-_I"
      },
      "outputs": [],
      "source": [
        "from IPython.display import Audio\n",
        "Audio('output.mp3')"
      ],
      "id": "Au9a4_WDz-_I"
    },
    {
      "cell_type": "code",
      "execution_count": null,
      "metadata": {
        "colab": {
          "base_uri": "https://localhost:8080/"
        },
        "id": "WkB_wge7JTOY",
        "outputId": "2e4ca990-2af4-4905-ad67-54424b87244c"
      },
      "outputs": [
        {
          "name": "stderr",
          "output_type": "stream",
          "text": [
            "/usr/local/lib/python3.7/dist-packages/ipykernel_launcher.py:18: DeprecationWarning: `np.int` is a deprecated alias for the builtin `int`. To silence this warning, use `int` by itself. Doing this will not modify any behavior and is safe. When replacing `np.int`, you may wish to use e.g. `np.int64` or `np.int32` to specify the precision. If you wish to review your current use, check the release note link for additional information.\n",
            "Deprecated in NumPy 1.20; for more details and guidance: https://numpy.org/devdocs/release/1.20.0-notes.html#deprecations\n"
          ]
        },
        {
          "data": {
            "text/plain": [
              "True"
            ]
          },
          "execution_count": 31,
          "metadata": {},
          "output_type": "execute_result"
        }
      ],
      "source": [
        "import cv2\n",
        "import numpy as np\n",
        "import matplotlib.pyplot as plt\n",
        "def cv2_clipped_zoom(img, zoom_factor=0):\n",
        "\n",
        "    if zoom_factor == 0:\n",
        "        return img\n",
        "\n",
        "    height, width = img.shape[:2] # It's also the final desired shape\n",
        "    new_height, new_width = int(height * zoom_factor), int(width * zoom_factor)\n",
        "    \n",
        "    ### Crop only the part that will remain in the result (more efficient)\n",
        "    # Centered bbox of the final desired size in resized (larger/smaller) image coordinates\n",
        "    y1, x1 = max(0, new_height - height) // 2, max(0, new_width - width) // 2\n",
        "    y2, x2 = y1 + height, x1 + width\n",
        "    bbox = np.array([y1,x1,y2,x2])\n",
        "    # Map back to original image coordinates\n",
        "    bbox = (bbox / zoom_factor).astype(np.int)\n",
        "    y1, x1, y2, x2 = bbox\n",
        "    cropped_img = img[y1:y2, x1:x2]\n",
        "    \n",
        "    # Handle padding when downscaling\n",
        "    resize_height, resize_width = min(new_height, height), min(new_width, width)\n",
        "    pad_height1, pad_width1 = (height - resize_height) // 2, (width - resize_width) //2\n",
        "    pad_height2, pad_width2 = (height - resize_height) - pad_height1, (width - resize_width) - pad_width1\n",
        "    pad_spec = [(pad_height1, pad_height2), (pad_width1, pad_width2)] + [(0,0)] * (img.ndim - 2)\n",
        "    \n",
        "    result = cv2.resize(cropped_img, (resize_width, resize_height))\n",
        "    result = np.pad(result, pad_spec, mode='constant')\n",
        "    assert result.shape[0] == height and result.shape[1] == width\n",
        "    return result\n",
        "\n",
        "img = cv2.imread(\"test.jpg\")\n",
        "ksize = (7, 7)\n",
        "  \n",
        "scale = 1.04\n",
        "zoomed = cv2_clipped_zoom(img, scale)\n",
        "\n",
        "# Using cv2.blur() method \n",
        "image = cv2.blur(zoomed, ksize) \n",
        "\n",
        "cv2.imwrite(f\"testzoom{scale}.jpg\",image)\n"
      ],
      "id": "WkB_wge7JTOY"
    },
    {
      "cell_type": "code",
      "execution_count": null,
      "metadata": {
        "id": "gABhe1hboVU5"
      },
      "outputs": [],
      "source": [
        "import cv2\n",
        "frames = []\n",
        "i = 0\n",
        "\n",
        "for i in seconds:\n",
        "  if i in kicks:\n",
        "    frames.append(cv2.imread('testzoom1.04.jpg'))\n",
        "    #print(i)\n",
        "  else:  \n",
        "    frames.append(cv2.imread('test.jpg'))\n",
        "\n",
        "height, width, _ = frames[0].shape\n",
        "out = cv2.VideoWriter('video.mp4', cv2.VideoWriter_fourcc(*'DIVX'), slices, (width, height))\n",
        "[out.write(f) for f in frames]\n",
        "out.release()"
      ],
      "id": "gABhe1hboVU5"
    },
    {
      "cell_type": "code",
      "execution_count": null,
      "metadata": {
        "id": "b8upKXhyX1Uu"
      },
      "outputs": [],
      "source": [
        "!ffmpeg -i video.mp4 -i output.mp3 -map 0:v -map 1:a -c:v copy -shortest final.mp4"
      ],
      "id": "b8upKXhyX1Uu"
    },
    {
      "cell_type": "code",
      "execution_count": null,
      "metadata": {
        "id": "I88vZNCdtKfm"
      },
      "outputs": [],
      "source": [
        "!ffmpeg -i output.mp3 -i video.mp4 -filter_complex \"[0:a]aformat=channel_layouts=mono,showwaves=s=1280x202:mode=line:colors=white|black[sw];[1][sw]overlay=(W-w)/2:(H-h)/2:format=auto,format=yuv420p[v]\" -map \"[v]\" -map 0:a -movflags  +faststart -preset ultrafast videoMono.mp4"
      ],
      "id": "I88vZNCdtKfm"
    },
    {
      "cell_type": "code",
      "execution_count": null,
      "metadata": {
        "colab": {
          "base_uri": "https://localhost:8080/"
        },
        "id": "XTLaOu9MUg1F",
        "outputId": "f3209ca3-2acc-489f-eab1-f24c7c10927a"
      },
      "outputs": [
        {
          "name": "stdout",
          "output_type": "stream",
          "text": [
            "Starting job # 3 in a separate thread.\n"
          ]
        }
      ],
      "source": [
        "# Start a webserver in the background, running on port 8000.\n",
        "%%script bash --bg\n",
        "python3 -m http.server 8000"
      ],
      "id": "XTLaOu9MUg1F"
    },
    {
      "cell_type": "code",
      "execution_count": null,
      "metadata": {
        "id": "3BHsuZrCx9-F"
      },
      "outputs": [],
      "source": [
        "# Embed the video file.\n",
        "%%html\n",
        "<video controls autoplay><source src=\"http://localhost:8000/videoMono.mp4\" type=\"video/mp4\"></video>"
      ],
      "id": "3BHsuZrCx9-F"
    },
    {
      "cell_type": "code",
      "execution_count": null,
      "metadata": {
        "id": "1ngAa1YRul9T"
      },
      "outputs": [],
      "source": [
        "from scipy import fft, arange\n",
        "import numpy as np\n",
        "import matplotlib.pyplot as plt\n",
        "from scipy.io import wavfile\n",
        "import os\n",
        "\n",
        "\n",
        "def frequency_spectrum(x, sf):\n",
        "    \"\"\"\n",
        "    Derive frequency spectrum of a signal from time domain\n",
        "    :param x: signal in the time domain\n",
        "    :param sf: sampling frequency\n",
        "    :returns frequencies and their content distribution\n",
        "    \"\"\"\n",
        "    x = x - np.average(x)  # zero-centering\n",
        "\n",
        "    n = len(x)\n",
        "    k = arange(n)\n",
        "    tarr = n / float(sf)\n",
        "    frqarr = k / float(tarr)  # two sides frequency range\n",
        "\n",
        "    frqarr = frqarr[range(n // 2)]  # one side frequency range\n",
        "\n",
        "    x = fft(x) / n  # fft computing and normalization\n",
        "    x = x[range(n // 2)]\n",
        "\n",
        "    return frqarr, abs(x)\n",
        "\n",
        "\n",
        "for i in range(0,1000):\n",
        "  audio = f'./chunks/chunk{i}.wav'\n",
        "  x, sr = librosa.load(audio)\n",
        "  frq, X = frequency_spectrum(x, sr)\n",
        "\n",
        "  X = X*10000\n",
        "\n",
        "  \n",
        "  plt.plot(frq, X, 'b')\n",
        "  plt.xlabel('Freq (Hz)')\n",
        "  plt.ylabel('|X(freq)|')\n",
        "  plt.show()\n",
        "  print(\"at chunk:\",i)\n",
        "  print(X[4:20])\n",
        "  #time.sleep(2)"
      ],
      "id": "1ngAa1YRul9T"
    },
    {
      "cell_type": "code",
      "source": [
        "from IPython.display import Audio\n",
        "Audio('./chunks/chunk220.wav')"
      ],
      "metadata": {
        "colab": {
          "base_uri": "https://localhost:8080/",
          "height": 75
        },
        "id": "9tum0M-e9uTW",
        "outputId": "6bfabeec-3126-474d-9310-9f2ac772891e"
      },
      "id": "9tum0M-e9uTW",
      "execution_count": 38,
      "outputs": [
        {
          "output_type": "execute_result",
          "data": {
            "text/plain": [
              "<IPython.lib.display.Audio object>"
            ],
            "text/html": [
              "\n",
              "                <audio controls=\"controls\" >\n",
              "                    <source src=\"data:audio/x-wav;base64,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\" type=\"audio/x-wav\" />\n",
              "                    Your browser does not support the audio element.\n",
              "                </audio>\n",
              "              "
            ]
          },
          "metadata": {},
          "execution_count": 38
        }
      ]
    },
    {
      "cell_type": "code",
      "execution_count": 20,
      "metadata": {
        "colab": {
          "base_uri": "https://localhost:8080/"
        },
        "id": "Yc3dptwcBrsR",
        "outputId": "9a3d10ee-74da-4340-f44b-f4ddfff1174c"
      },
      "outputs": [
        {
          "output_type": "stream",
          "name": "stdout",
          "text": [
            "4\n"
          ]
        }
      ],
      "source": [
        "for i in range(0,len(X)):\n",
        "  if X[i] == 1908.670274819701:\n",
        "    print(i)"
      ],
      "id": "Yc3dptwcBrsR"
    },
    {
      "cell_type": "code",
      "execution_count": 19,
      "metadata": {
        "id": "U0Q2Ztt7DEm_",
        "colab": {
          "base_uri": "https://localhost:8080/"
        },
        "outputId": "654af54f-ab14-44f9-d831-acadd4872a87"
      },
      "outputs": [
        {
          "output_type": "stream",
          "name": "stdout",
          "text": [
            "1908.670274819701\n"
          ]
        }
      ],
      "source": [
        "print(max(X))"
      ],
      "id": "U0Q2Ztt7DEm_"
    }
  ],
  "metadata": {
    "colab": {
      "collapsed_sections": [],
      "name": "beat detection.ipynb",
      "provenance": [],
      "include_colab_link": true
    },
    "kernelspec": {
      "display_name": "Python 3 (ipykernel)",
      "language": "python",
      "name": "python3"
    },
    "language_info": {
      "codemirror_mode": {
        "name": "ipython",
        "version": 3
      },
      "file_extension": ".py",
      "mimetype": "text/x-python",
      "name": "python",
      "nbconvert_exporter": "python",
      "pygments_lexer": "ipython3",
      "version": "3.9.10"
    }
  },
  "nbformat": 4,
  "nbformat_minor": 5
}